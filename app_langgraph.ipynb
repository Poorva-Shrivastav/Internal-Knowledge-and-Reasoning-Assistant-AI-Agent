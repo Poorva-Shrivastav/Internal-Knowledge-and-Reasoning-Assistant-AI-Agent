{
 "cells": [
  {
   "cell_type": "code",
   "execution_count": 1,
   "id": "18811c9c",
   "metadata": {},
   "outputs": [
    {
     "data": {
      "text/plain": [
       "True"
      ]
     },
     "execution_count": 1,
     "metadata": {},
     "output_type": "execute_result"
    }
   ],
   "source": [
    "import os \n",
    "from dotenv import load_dotenv\n",
    "from langchain_community.document_loaders import PyPDFLoader, ConfluenceLoader\n",
    "from langchain.text_splitter import RecursiveCharacterTextSplitter\n",
    "# from langchain_community.embeddings import OpenAIEmbeddings\n",
    "from langchain_ollama import OllamaEmbeddings\n",
    "\n",
    "from langchain_openai import ChatOpenAI\n",
    "from langchain_core.prompts import ChatPromptTemplate\n",
    "from langchain_community.vectorstores import Chroma\n",
    "from langchain_core.tools import tool\n",
    "from langchain.chat_models import init_chat_model\n",
    "from langchain_core.messages import HumanMessage, AIMessage\n",
    "\n",
    "from typing import TypedDict, Annotated, List\n",
    "from langgraph.graph import START, END, StateGraph\n",
    "from langgraph.graph.message import add_messages\n",
    "from langgraph.prebuilt import ToolNode, tools_condition\n",
    "\n",
    "\n",
    "\n",
    "from langchain_google_genai import ChatGoogleGenerativeAI, GoogleGenerativeAIEmbeddings\n",
    "\n",
    "load_dotenv()\n",
    "\n",
    "# os.environ[\"GOOGLE_API_KEY\"] = os.getenv(\"GOOGLE_API_KEY\")"
   ]
  },
  {
   "cell_type": "code",
   "execution_count": 2,
   "id": "6b1a6a00",
   "metadata": {},
   "outputs": [
    {
     "name": "stdout",
     "output_type": "stream",
     "text": [
      "[0.006084328, 0.002494591, -0.15927947, -0.043639448, 0.040117614, -0.04102925, 0.0050643105, 0.01470908, 0.05307202, -0.031698048, -0.009573438, 0.01738086, 0.08602625, -0.004539801, 0.051367957, -0.024956618, -0.018199699, -0.040547904, -0.020128652, -0.09280334, 0.029042633, -0.0041551986, -0.027520707, 0.0022887045, 0.10380221, -0.0027874685, 0.02027769, 0.03687985, -0.043038364, -0.021446263, 0.02380848, -0.013956396, 0.029432617, -0.013718402, 0.02942066, -0.054840535, 0.046126906, 0.044149, -0.022711957, -0.007145242, -0.00069159217, 0.003394174, 0.05406531, 0.003485627, 0.013098579, -0.038399722, 0.023440074, 0.037694804, 0.057041995, -0.029288216, 0.0065793605, -0.03038336, -0.038474184, 0.023714822, 0.048822455, 0.02355014, 0.0022269385, 0.057828963, -0.063227266, -0.035964098, 0.04527451, 0.09091949, -0.012772981, 0.05825145, 0.041771125, -0.0043258183, -0.012139093, 0.056571614, 0.019121205, -0.013150437, 0.01752867, 0.009575644, -0.02421599, -0.016467193, -0.030467415, -0.016340481, -0.02026264, -0.042490333, 0.014321753, 0.035360843, 0.04747676, 0.007592835, 0.047013845, -0.03284285, 0.023386354, -0.0008880646, -0.02211852, 0.016040115, -0.003318545, 0.052803997, -0.014348415, -0.01765545, -0.034325108, -0.023294076, -0.038700614, 0.009211115, -0.02459604, 0.035190962, -0.035172313, -0.008336932, -0.057891533, -0.010527673, -0.011467611, 0.015535307, 0.04693727, 0.02684067, 0.0150153125, 0.01664675, 0.01554128, 0.06587652, -0.03807561, 0.07635171, -0.030060707, -0.0038119645, 0.0065578064, -0.07963737, 0.07955254, -0.028935317, 0.03797342, 0.006564733, -0.05025318, -0.03388772, 0.02757498, 0.04000915, 0.027387274, 0.02618043, -0.082598634, 0.030445334, -0.004529899, -0.054743707, 0.01432232, -0.023125524, -0.02762115, -0.026174886, 0.0021582271, 0.03516794, -0.011541765, -0.03645211, -0.033148993, 0.023026748, 0.0006760007, -0.011995871, 0.0052350587, -0.020463856, 0.05785331, -0.059472047, 0.07824231, 0.027593335, 0.016276235, 0.028064528, -0.015951961, 0.02067326, 0.039592862, 0.018050812, 0.01101672, -0.022177672, -0.017518867, -0.0339936, 0.026187098, 0.046709295, 0.029699888, 0.019582134, -0.020061938, 0.061600763, -0.04402017, -0.06578168, 0.003256547, 0.09987878, 0.033641063, 0.030729175, -0.041509192, -0.006327138, -0.019203404, -0.0048064096, 0.01856159, -0.0016406231, 0.017070195, -0.03608775, 0.016201114, -0.008829508, 0.031945277, -0.07293989, -0.027385173, 0.034735624, -0.033986583, -0.003408393, 0.03237195, -0.044948958, -0.028378371, -0.018731382, -0.017756512, -0.00076517067, -0.10151678, -0.052283883, -0.050049275, 0.02227932, 0.01818862, -0.01042061, 0.017574152, -0.040564444, 0.018405922, 0.0050369194, -0.036470063, 0.0033053067, -0.00861504, 0.0056086862, -0.02663487, -0.016633783, -0.005399607, 0.014347333, 0.068841465, -0.0006569799, -0.056131076, 0.015533653, 0.028207298, -0.03613628, 0.009751172, -0.036727734, -0.04001322, -0.0037313385, 0.028909931, 0.0027084819, -0.002112596, -0.07891041, -0.023716014, -0.023526868, -0.08026191, 0.011386979, -0.02800971, 0.030067619, -0.014858767, -0.05850754, 0.016733337, -0.0018589647, -0.013091019, 0.013316414, -0.0089316005, 0.05772655, -0.0023903258, 0.031093923, 0.040551484, 0.041208316, -0.012296431, -0.013709947, 0.011316236, -0.020577138, -0.046340104, -0.00776265, 0.025435632, 0.037978236, 0.016872097, -0.007164819, 0.01017654, -0.017794382, -0.0032836122, -0.05924877, -0.05536746, -0.019519435, 0.031276837, -0.016706267, 0.033948164, -0.009680798, 0.067154445, -0.044643577, 0.013349095, -0.031799264, -0.007064425, 0.030339487, -0.006184281, -0.029339857, 0.049987167, 0.03068252, -0.03658996, 0.024275396, 0.015299226, 0.015586585, -0.00995581, -0.022990828, -0.024339281, 0.038720757, -0.043438114, -0.019845061, -0.021223405, 0.02074533, 0.015051874, 0.031734157, -0.010418585, 0.011332317, -0.007881661, -0.0010153227, 0.075673096, 0.025135081, -0.09744804, 0.0840751, -0.023728505, -0.0025481684, 9.313065e-05, 0.03930649, -0.023721887, -0.006904813, 0.028300125, -0.043695726, 0.033234622, -0.0016271342, 0.018406754, -0.07375431, 0.0080203805, -0.00059161015, 0.029241366, 0.057976328, -0.07911649, 0.000101193364, -0.020485992, -0.0015244348, -0.057713863, 0.0047620256, 0.02462609, -0.04308855, 0.040893264, 0.0014427282, -0.0031873318, -0.03366175, -0.021758772, -0.002612432, 0.015384091, -0.0014436527, -0.056016546, 0.04271187, -0.047201864, -0.07667388, 0.051218517, -0.021480203, 0.0044388915, -0.034321986, -0.0001258426, 0.031646647, -0.00946447, -0.023441851, -0.015178119, 0.062027004, 0.05448793, -0.046110462, 0.0497036, -0.06801542, -0.11053669, -0.008204008, -0.027870186, -0.018542474, 0.038874745, 0.0042717764, -0.020828353, 0.025144957, -0.021897921, 0.028690945, 0.024830658, -0.040273175, 0.06501968, 0.04795713, 0.010063607, -0.015986728, 0.026987815, -0.024504725, 0.0022665286, -0.020337228, 0.035285763, -0.025635818, 0.036939066, -0.050564986, 0.025669979, 0.046653736, 0.013743657, -0.078627236, -0.03481819, 0.030802693, 0.03611676, -0.00876257, -0.060303334, -0.005885973, 0.021609915, 0.027047032, 0.058508284, -0.0074953376, 0.0450863, 0.011318958, 0.025739241, -0.03326027, -0.00015632555, -0.004977763, 0.0015355689, -0.06173637, -0.027336946, -0.017608007, -0.017205905, -0.032698657, 0.0402956, -0.024477065, 0.007996509, -0.0005627398, 0.022078674, 0.03679964, -0.029471304, -0.05637825, -0.017197663, -0.0155994035, -0.00046125764, 0.06557086, -0.00336088, -0.061398014, 0.066674426, -0.04384644, 0.033743896, 0.02195504, -0.020849772, -0.060735136, 0.05241611, 0.0090335645, 0.04109208, -0.002134826, -0.023379195, -0.008608787, 0.034525804, 0.027461087, 0.068927646, -0.0004329612, -0.0041358876, 0.015572764, -0.0006271418, 0.03350228, -0.02566742, -0.08030766, 0.005301768, 0.0044215824, 0.025007222, -0.05207191, -0.045226388, 0.019794658, -0.025108088, 0.020721873, 0.008120742, 0.030971864, 0.0214458, -0.020596154, -0.042750314, 0.001647948, 0.035759393, 0.09854024, 0.097598925, -0.025411854, -0.0035458, 0.028268889, 0.049812924, 0.014090482, 0.035243902, 0.040221367, 0.0531941, -0.005754835, 0.005852985, 0.018699875, 0.03357154, 0.032333564, -0.02119458, -0.03136969, -0.024750996, -0.010632426, 0.046265453, -0.00060053804, 0.0019396803, -0.006982517, 0.0119791, 0.04477985, -0.015477281, -0.019000087, -0.012079686, -0.052553736, 0.0009610955, -0.03589984, 0.022107862, -0.009167735, 0.062814176, 0.046007533, -0.024955684, 0.013652586, -0.018439837, -0.035587106, 0.01807617, -0.028069837, 0.044682, 0.04835672, -0.0028441339, -0.0072385967, 0.026744852, 0.040463485, 0.04184364, 0.006671049, 0.011668735, 0.053435296, -0.04764212, 0.0054631513, -0.005572118, 0.020726725, 0.016045166, 0.042476077, -0.023889355, 0.027115647, 0.027925568, -0.06794875, 0.0404218, -0.038810015, -0.04874012, -0.022854432, 0.00353166, -0.021988677, -0.005796272, -0.027354544, 0.09307167, -0.0048152125, 0.028238393, -0.019270165, -0.03548622, 0.0697234, -0.026427776, -0.019264696, -0.006494752, -0.067613274, -0.093876034, 0.04631199, 0.05999227, 0.0023382597, 0.02773227, 0.01883021, 0.023134764, 0.039472353, -0.03968963, -0.05294307, 0.027146928, -0.018587869, -0.0818839, 0.023681287, 0.019096786, 0.027544513, -0.045603342, -0.0043213, -0.0022323146, -0.03990463, 0.032255907, -0.012332639, -0.0032113232, 0.048176274, -0.0002818317, -0.06287917, 0.0047651697, -0.041971326, -0.034437507, -0.04825605, 0.04199729, -0.0008357824, 0.0072659417, -0.014479673, 0.015852846, -0.0007940976, 0.07333721, 0.04766002, 0.07733997, -0.009844067, 0.02543313, 0.008077622, -0.011482336, -0.009016411, 0.05847876, 0.03288763, -0.010513798, 0.017095756, 0.019257681, -0.03902667, 0.0005008392, 0.040444966, -0.031325728, 0.006966419, -0.004048333, -0.034095015, -0.0026786767, 0.014376317, 0.050856747, 0.0035990665, -0.004333343, -0.038206555, -0.027609363, -0.008989874, 0.056596357, -0.009169962, -0.029514644, 0.02614828, 0.0076654525, -0.054143, -0.0225147, 0.062525615, -0.02948851, -0.003230251, -0.02210941, -0.019730525, -0.0023961042, 0.011654336, 0.020865874, -0.029397367, 0.016686197, 0.08329217, -0.022688597, 0.002586092, 0.06239887, -0.03904891, 0.019896831, 0.021888623, -0.014479114, -0.0019912214, 0.021626495, -0.013679335, 0.05389777, -0.018065592, 0.033863336, 0.021649018, 0.008244455, -0.08516618, 0.05576614, 0.03276599, -0.004960864, -0.0025667779, -0.074664555, -0.0051925285, 0.029000161, 0.018712796, 0.0070674308, 0.008839582, -0.063617855, -0.07394345, -0.042377766, -0.009281036, -0.0065622493, 0.008687042, 0.03570901, 0.03992929, 0.04104899, 0.015563216, 0.017304372, 0.016664675, 0.026482752, -0.005988739, -0.0023367242, 0.0768819, 0.006529382, -0.006455426, 0.079704, 0.06263826, -0.009280225, 0.007885814, 0.008625242, -0.032251157, -0.009955462, -0.015379246, -0.046517987, -0.016034514, 0.021834103, 0.011348498, -0.0061528888, -0.005324719, -0.011085121, -0.012913469, -0.011794841, -0.00044241722, -0.0020439243, -0.04157851, 0.010534497, 0.0315492, 0.046475764, -0.019605072, 0.008902166, -0.016640076, 0.05534225, 0.03257751, -0.012790368, -0.031364, 0.0063855266, -0.011559301, 0.053343225, -0.042890742, 0.020660562, -0.08240582, 0.027129326, -0.029500097, -0.021692373, -0.053189553, -0.0076504997, -0.05032283, -0.011870886, -0.096146256, -0.02646288, -0.0067073638, -0.014736761, -0.03028719, -0.047732968, 0.043757293, -0.014661082, -0.0175364, 0.03610578, 0.046067394, 0.00016341443, -0.053530037, 0.041640673, -0.016912807, -0.0010851211, -0.040316686, -0.034343302, 0.042952325, -0.0051340214, 0.044824906, -0.0111374585, -0.0026539774, 0.012315031, 0.015064187, 0.0066291373, -0.030495606, 0.041122306, -0.013106378, -0.041551318, -0.06549285, -0.05720951, 0.027710576, 0.03718021, -0.009453371, -0.020833146, -0.0020565114, -0.044062085, -0.028127924, -0.020849118, 0.010787023, -0.033595357, -0.01290594, -0.02034902, -0.039031304, -0.09548268, -0.021858286, 0.025871646, 0.03271732, -0.07660971, 0.027733438, 0.020889824, -0.02740262, -0.029126175, 0.042557977, 0.04850619, 0.008026358, -0.0045598405, 0.020793112, -0.012178997, -0.0039689443, 0.005106653, -0.015998973, -0.001501275, 0.045384333, 0.08268601, 0.050922897, 0.016255068, -0.0029339688, 0.036855187, -0.0070158527, -0.045498732, -0.043984737, -0.021559887, 0.01910659]\n"
     ]
    }
   ],
   "source": [
    "\n",
    "\n",
    "confluence_api_key = os.environ[\"CONFLUENCE_TOKEN\"]\n",
    "# langsmith_api_key = os.environ[\"LANGSMITH_API_KEY\"]\n",
    "\n",
    "# client = Client(api_key=langsmith_api_key)\n",
    "\n",
    "# # embedding_fn = OpenAIEmbeddings()\n",
    "\n",
    "# llm = ChatGoogleGenerativeAI(\n",
    "#     model=\"gemini-2.0-flash\",\n",
    "#     temperature=0  # optional\n",
    "# )\n",
    "\n",
    "# embedding_fn = GoogleGenerativeAIEmbeddings(\n",
    "#     model=\"models/embedding-001\"  # this is the correct embedding model\n",
    "# )\n",
    "\n",
    "\n",
    "embedding_fn = OllamaEmbeddings(model=\"nomic-embed-text\")\n",
    "\n",
    "print(embedding_fn.embed_query(\"OAuth 2.0 is an authorization framework\"))\n",
    "\n",
    "loader1 = PyPDFLoader(\"InfoTech_HR_Policy_Manual.pdf\")\n",
    "pdf_docs = loader1.load()\n",
    "\n",
    "loader2 = ConfluenceLoader(  \n",
    "url=\"https://poorvashrivastav03.atlassian.net/wiki\",\n",
    "username=\"poorvashrivastav03@gmail.com\",  \n",
    "api_key=confluence_api_key,\n",
    "space_key=\"TRD\",      # Replace with your Confluence space key\n",
    "limit=5\n",
    ")\n",
    "confluence_docs = loader2.load()\n"
   ]
  },
  {
   "cell_type": "code",
   "execution_count": 3,
   "id": "811fd666",
   "metadata": {},
   "outputs": [],
   "source": [
    "\n",
    "splitter = RecursiveCharacterTextSplitter(chunk_size=1000, chunk_overlap=100)\n",
    "\n",
    "chunks_hr = splitter.split_documents(pdf_docs)\n",
    "vector_db_hr = Chroma.from_documents(chunks_hr, embedding=embedding_fn, collection_name=\"internal_hr_docs\")\n",
    "retriever_hr = vector_db_hr.as_retriever(search_type=\"similarity\", search_kwargs={\"k\": 3})\n",
    "\n",
    "\n",
    "chunk_confl = splitter.split_documents(confluence_docs)\n",
    "vector_db_confl = Chroma.from_documents(chunk_confl, embedding=embedding_fn, collection_name=\"confluence_docs\")\n",
    "retriever_confl = vector_db_confl.as_retriever(search_type=\"similarity\", search_kwargs={\"k\": 3})\n",
    "\n"
   ]
  },
  {
   "cell_type": "code",
   "execution_count": 4,
   "id": "8392ee14",
   "metadata": {},
   "outputs": [
    {
     "name": "stderr",
     "output_type": "stream",
     "text": [
      "WARNING: All log messages before absl::InitializeLog() is called are written to STDERR\n",
      "E0000 00:00:1760511932.566604  196304 alts_credentials.cc:93] ALTS creds ignored. Not running on GCP and untrusted ALTS is not enabled.\n"
     ]
    }
   ],
   "source": [
    "llm = init_chat_model(\"google_genai:gemini-2.0-flash\")"
   ]
  },
  {
   "cell_type": "code",
   "execution_count": 5,
   "id": "a789ed83",
   "metadata": {},
   "outputs": [
    {
     "name": "stdout",
     "output_type": "stream",
     "text": [
      "<class 'langchain_core.runnables.base.RunnableBinding'>\n"
     ]
    }
   ],
   "source": [
    "@tool(\"search_hr_docs\", return_direct=False)\n",
    "def search_hr_docs(query: str) -> str:\n",
    "    \"\"\"Returns result from the HR policy document.\n",
    "    :Search HR policy documents for a given query, it might include employee policies, payroll, benefits, or leave information.\n",
    "    :Do not use for technical, project, or Confluence-related queries.\n",
    "    \"\"\"\n",
    "       \n",
    "    result = retriever_hr.get_relevant_documents(query)    \n",
    "    if not result:\n",
    "        return \"No relevant HR policy found.\"\n",
    "    return \"\\n\\n\".join([r.page_content for r in result])\n",
    "\n",
    "@tool(\"search_confluence_docs\", return_direct=False)\n",
    "def search_confluence_docs(query: str) -> str:    \n",
    "    \"\"\"Search internal Confluence pages for a given query.\n",
    "    :Search Confluence for technical setup, integration, or project documentation (e.g., OAuth, Jira,APIs).\n",
    "    :Do not use for HR-related queries or employee policies.\n",
    "    \"\"\"\n",
    "    \n",
    "    docs = retriever_confl.get_relevant_documents(query)     #returns a list\n",
    "\n",
    "    if not docs:\n",
    "        return \"No relevant Confluence documents found.\"\n",
    "    \n",
    "    # Convert document list into plain text\n",
    "    combined = \"\\n\\n\".join(\n",
    "        [f\"Title: {d.metadata.get('title', 'Untitled')}\\n{d.page_content}\" for d in docs]\n",
    "    )\n",
    "\n",
    "    print(\"🔍 Confluence search results:\", combined[:300], \"...\")\n",
    "    return combined\n",
    "\n",
    "\n",
    "\n",
    "@tool(\"summarize_docs\", return_direct=False)\n",
    "def summarize_docs(text: str):\n",
    "    \"\"\"Summarize retrieved content for quick reference.\"\"\"    \n",
    "    return llm.invoke(f\"Summarize briefly:\\n\\n{text}\").content\n",
    "\n",
    "\n",
    "tools = [search_hr_docs, search_confluence_docs]\n",
    "\n",
    "llm_with_tools = llm.bind_tools(tools)\n",
    "print(type(llm_with_tools))"
   ]
  },
  {
   "cell_type": "code",
   "execution_count": 6,
   "id": "81d57458",
   "metadata": {},
   "outputs": [],
   "source": [
    "class State(TypedDict):\n",
    "    messages : Annotated[list, add_messages]"
   ]
  },
  {
   "cell_type": "code",
   "execution_count": 11,
   "id": "fe5bccf0",
   "metadata": {},
   "outputs": [],
   "source": [
    "def reasoning_agent(state: State):\n",
    "    \"\"\"LLM decides whether to answer or call a tool.\"\"\"\n",
    "    messages = state[\"messages\"]\n",
    "    response = llm_with_tools.invoke(messages)\n",
    "    return {\"messages\": messages + [response]}"
   ]
  },
  {
   "cell_type": "code",
   "execution_count": 8,
   "id": "56df443a",
   "metadata": {},
   "outputs": [
    {
     "data": {
      "image/png": "[encoded data removed]",
      "text/plain": [
       "<IPython.core.display.Image object>"
      ]
     },
     "metadata": {},
     "output_type": "display_data"
    }
   ],
   "source": [
    "builder = StateGraph(State)\n",
    "\n",
    "builder.add_node(\"reasoning_agent_node\", reasoning_agent)\n",
    "builder.add_node(\"tools\", ToolNode(tools))\n",
    "\n",
    "builder.set_entry_point(\"reasoning_agent_node\")\n",
    "builder.add_conditional_edges(\"reasoning_agent_node\", tools_condition)\n",
    "builder.add_edge(\"tools\", \"reasoning_agent_node\")\n",
    "\n",
    "graph = builder.compile()\n",
    "\n",
    "from IPython.display import Image, display\n",
    "display(Image(graph.get_graph().draw_mermaid_png()))"
   ]
  },
  {
   "cell_type": "code",
   "execution_count": 9,
   "id": "78423dba",
   "metadata": {},
   "outputs": [
    {
     "name": "stdout",
     "output_type": "stream",
     "text": [
      "response :  content='' additional_kwargs={'function_call': {'name': 'search_hr_docs', 'arguments': '{\"query\": \"leave policy\"}'}} response_metadata={'prompt_feedback': {'block_reason': 0, 'safety_ratings': []}, 'finish_reason': 'STOP', 'model_name': 'gemini-2.0-flash', 'safety_ratings': []} id='run--e1d8b204-4d47-4e35-a402-7e1e948817d3-0' tool_calls=[{'name': 'search_hr_docs', 'args': {'query': 'leave policy'}, 'id': 'd4b741ef-54d2-44f2-a4e8-6b9e83948e04', 'type': 'tool_call'}] usage_metadata={'input_tokens': 128, 'output_tokens': 8, 'total_tokens': 136, 'input_token_details': {'cache_read': 0}}\n"
     ]
    },
    {
     "name": "stderr",
     "output_type": "stream",
     "text": [
      "/var/folders/mt/_ncgm8vx00b50yjykvqyd7b80000gn/T/ipykernel_7723/2037610696.py:8: LangChainDeprecationWarning: The method `BaseRetriever.get_relevant_documents` was deprecated in langchain-core 0.1.46 and will be removed in 1.0. Use :meth:`~invoke` instead.\n",
      "  result = retriever_hr.get_relevant_documents(query)\n"
     ]
    },
    {
     "name": "stdout",
     "output_type": "stream",
     "text": [
      "response :  content='The leave policy includes:\\n- Casual Leave (CL): 10 days/year.\\n- Sick Leave (SL): 12 days/year (medical certificate required for more than 2 consecutive days).\\n- Privilege Leave (PL): 15 days/year (carry forward allowed up to 45 days).\\n- Maternity Leave(ML): 26 weeks (as per Maternity Benefit Act).\\n- Paternity Leave: 10 days.\\n- Compensatory Off: For working on weekends/holidays with prior approval.\\n- Public Holidays: As per State Government notifications.' additional_kwargs={} response_metadata={'prompt_feedback': {'block_reason': 0, 'safety_ratings': []}, 'finish_reason': 'STOP', 'model_name': 'gemini-2.0-flash', 'safety_ratings': []} id='run--227eb94e-8678-4f63-b7aa-fff4bc34add2-0' usage_metadata={'input_tokens': 953, 'output_tokens': 125, 'total_tokens': 1078, 'input_token_details': {'cache_read': 0}}\n",
      "The leave policy includes:\n",
      "- Casual Leave (CL): 10 days/year.\n",
      "- Sick Leave (SL): 12 days/year (medical certificate required for more than 2 consecutive days).\n",
      "- Privilege Leave (PL): 15 days/year (carry forward allowed up to 45 days).\n",
      "- Maternity Leave(ML): 26 weeks (as per Maternity Benefit Act).\n",
      "- Paternity Leave: 10 days.\n",
      "- Compensatory Off: For working on weekends/holidays with prior approval.\n",
      "- Public Holidays: As per State Government notifications.\n"
     ]
    }
   ],
   "source": [
    "response = graph.invoke({\n",
    "    \"messages\": [HumanMessage(content=\"What is the leave policy?\")]\n",
    "})\n",
    "\n",
    "print(response[\"messages\"][-1].content)"
   ]
  },
  {
   "cell_type": "code",
   "execution_count": 10,
   "id": "6bcc0b15",
   "metadata": {},
   "outputs": [
    {
     "name": "stdout",
     "output_type": "stream",
     "text": [
      "response :  content='' additional_kwargs={'function_call': {'name': 'search_confluence_docs', 'arguments': '{\"query\": \"functional requirements of OAuth 2.0\"}'}} response_metadata={'prompt_feedback': {'block_reason': 0, 'safety_ratings': []}, 'finish_reason': 'STOP', 'model_name': 'gemini-2.0-flash', 'safety_ratings': []} id='run--0cf8136f-bf42-4672-b3a5-192e09357f8c-0' tool_calls=[{'name': 'search_confluence_docs', 'args': {'query': 'functional requirements of OAuth 2.0'}, 'id': '103b3e60-b0ce-4800-8b0b-4d2988b5d5c1', 'type': 'tool_call'}] usage_metadata={'input_tokens': 134, 'output_tokens': 15, 'total_tokens': 149, 'input_token_details': {'cache_read': 0}}\n",
      "🔍 Confluence search results: Title: OAuth 2.0\n",
      "#E3FCEF 1. Objective Spaces help your team structure, organize, and share work, so every team member has visibility into institutional knowledge and access to the information they need to do their best work. #E3FCEF 2. Scope In Scope Integration of Confluence with an Identity Provid ...\n",
      "response :  content='Based on the search results, the functional requirements of OAuth 2.0 for Confluence integration can be summarized as follows:\\n\\n*   **Authentication & Authorization:**\\n    *   Must support the OAuth 2.0 Authorization Framework (RFC 6749).\\n    *   Must allow Authorization Code Grant Flow with PKCE for interactive users.\\n    *   Must allow Client Credentials Grant Flow for service accounts and backend integrations.\\n    *   Must support a user consent screen (via IdP) for granting Confluence access.\\n    *   Must enforce role/space/page-level permissions based on Confluence access rules.\\n*   **Token Management:**\\n    *   Must accept JWT access tokens signed by IdP.\\n    *   Must validate tokens against IdP public keys (JWKS endpoint).\\n    *   Must reject expired or tampered tokens.\\n    *   Must support refresh tokens for long-lived sessions.\\n    *   Must configure token expiration policies in line with security standards (e.g., 1-hour access token, 24-hour refresh token).\\n*   **Security Requirements:**\\n    *   Tokens must be transmitted only over HTTPS (TLS 1.2 or higher).\\n    *   Must implement scopes for granular permissions (e.g., confluence:read, confluence:write).\\n    *   Must log and monitor OAuth events (token issuance, failures, invalid attempts).\\n    *   Must revoke tokens upon user deactivation or role removal in IdP.\\n*   **Confluence Integration:**\\n    *   Must support REST API calls to Confluence using OAuth bearer tokens.\\n    *   Must integrate with Confluence’s AppLinks or OAuth 2.0 provider plugin (depending on deployment type: Cloud vs Data Center).\\n    *   Must map IdP groups/claims to Confluence user groups (e.g., team-hr → Confluence HR Space access).\\n    *   Must ensure seamless login for end-users (SSO experience).' additional_kwargs={} response_metadata={'prompt_feedback': {'block_reason': 0, 'safety_ratings': []}, 'finish_reason': 'STOP', 'model_name': 'gemini-2.0-flash', 'safety_ratings': []} id='run--4c989987-b784-41b1-9f47-aadedacefe8f-0' usage_metadata={'input_tokens': 854, 'output_tokens': 420, 'total_tokens': 1274, 'input_token_details': {'cache_read': 0}}\n",
      "Based on the search results, the functional requirements of OAuth 2.0 for Confluence integration can be summarized as follows:\n",
      "\n",
      "*   **Authentication & Authorization:**\n",
      "    *   Must support the OAuth 2.0 Authorization Framework (RFC 6749).\n",
      "    *   Must allow Authorization Code Grant Flow with PKCE for interactive users.\n",
      "    *   Must allow Client Credentials Grant Flow for service accounts and backend integrations.\n",
      "    *   Must support a user consent screen (via IdP) for granting Confluence access.\n",
      "    *   Must enforce role/space/page-level permissions based on Confluence access rules.\n",
      "*   **Token Management:**\n",
      "    *   Must accept JWT access tokens signed by IdP.\n",
      "    *   Must validate tokens against IdP public keys (JWKS endpoint).\n",
      "    *   Must reject expired or tampered tokens.\n",
      "    *   Must support refresh tokens for long-lived sessions.\n",
      "    *   Must configure token expiration policies in line with security standards (e.g., 1-hour access token, 24-hour refresh token).\n",
      "*   **Security Requirements:**\n",
      "    *   Tokens must be transmitted only over HTTPS (TLS 1.2 or higher).\n",
      "    *   Must implement scopes for granular permissions (e.g., confluence:read, confluence:write).\n",
      "    *   Must log and monitor OAuth events (token issuance, failures, invalid attempts).\n",
      "    *   Must revoke tokens upon user deactivation or role removal in IdP.\n",
      "*   **Confluence Integration:**\n",
      "    *   Must support REST API calls to Confluence using OAuth bearer tokens.\n",
      "    *   Must integrate with Confluence’s AppLinks or OAuth 2.0 provider plugin (depending on deployment type: Cloud vs Data Center).\n",
      "    *   Must map IdP groups/claims to Confluence user groups (e.g., team-hr → Confluence HR Space access).\n",
      "    *   Must ensure seamless login for end-users (SSO experience).\n"
     ]
    }
   ],
   "source": [
    "response = graph.invoke({\n",
    "    \"messages\": [HumanMessage(content=\"Summarize the functional requirements of OAuth 2.0?\")]\n",
    "})\n",
    "\n",
    "print(response[\"messages\"][-1].content)"
   ]
  }
 ],
 "metadata": {
  "kernelspec": {
   "display_name": ".venv (3.12.3)",
   "language": "python",
   "name": "python3"
  },
  "language_info": {
   "codemirror_mode": {
    "name": "ipython",
    "version": 3
   },
   "file_extension": ".py",
   "mimetype": "text/x-python",
   "name": "python",
   "nbconvert_exporter": "python",
   "pygments_lexer": "ipython3",
   "version": "3.12.3"
  }
 },
 "nbformat": 4,
 "nbformat_minor": 5
}
